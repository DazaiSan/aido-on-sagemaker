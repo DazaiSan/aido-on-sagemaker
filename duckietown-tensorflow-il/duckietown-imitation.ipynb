{
 "cells": [
  {
   "cell_type": "markdown",
   "metadata": {},
   "source": [
    "# Welcome to Duckietown!\n",
    "\n",
    "This is the companion tutorial file for learning how to use Amazon AWS's Sagemaker tool to train your Duckietown AIDO submission... **in the cloud**!\n",
    "\n",
    "We'll be building of our our [Reinforcement Learning](https://goo.gl/YFTjn3) Tutorial, where we take IL and use Sagemaker to train with speed!\n",
    "\n",
    "This tutorial will walk you through, step by step, how to get your Sagemaker account running and using it to train a AIDO Lane Following Submission.\n",
    "\n",
    "Some prerequisites we expect you to have:\n",
    "1. An AWS Account (You can get one by signing up [here](https://aws.amazon.com/))\n",
    "2. A good overview of the code we'll be looking at. We'll be building off [this repository ](https://github.com/duckietown/challenge-aido1_LF1-baseline-RL-sim-pytorch), and this code can be found [here](https://github.com/duckietown/aido-on-sagemaker). A good start would be the video tutorial posted above.\n",
    "3. The ability to submit with `duckietown-shell` (which means you already have a [Duckietown Account](https://www.duckietown.org/research/ai-driving-olympics/ai-do-register)) as well as `git` on your computer\n",
    "4. Understanding our more thorough [Pytorch Reinforcement Learning Tutorial on Sagemaker](https://github.com/duckietown/aido-on-sagemaker/blob/master/duckietown-pytorch-rl/duckietown-extending.ipynb)."
   ]
  },
  {
   "cell_type": "code",
   "execution_count": null,
   "metadata": {},
   "outputs": [],
   "source": [
    "!cat container/Dockerfile"
   ]
  },
  {
   "cell_type": "markdown",
   "metadata": {},
   "source": [
    "### Building and registering the container\n",
    "\n",
    "The following shell code shows how to build the container image using `docker build` and push the container image to ECR using `docker push`. This code is also available as the shell script `container/build-and-push.sh`.\n",
    "\n",
    "This code looks for an ECR repository in the account you're using and the current default **region** (if you're using a SageMaker notebook instance, this is the region where the notebook instance was created). If the repository doesn't exist, the script will create it. In addition, since we are using the SageMaker PyTorch image as the base, we will need to retrieve ECR credentials to pull this public image.\n",
    "\n",
    "The main thing you want to note is the `algorithm_name`."
   ]
  },
  {
   "cell_type": "code",
   "execution_count": 36,
   "metadata": {
    "scrolled": false
   },
   "outputs": [
    {
     "name": "stdout",
     "output_type": "stream",
     "text": [
      "Login Succeeded\n",
      "Sending build context to Docker daemon  20.99kB\r",
      "\r\n",
      "Step 1/14 : FROM tensorflow/tensorflow:1.8.0-py3\n",
      " ---> a83a3dd79ff9\n",
      "Step 2/14 : RUN apt-get update && apt-get install -y --no-install-recommends nginx curl\n",
      " ---> Using cache\n",
      " ---> 02279947e273\n",
      "Step 3/14 : RUN apt-get install -y freeglut3-dev xvfb xorg-dev libglu1-mesa libgl1-mesa-dev libxinerama1 libxcursor1\n",
      " ---> Using cache\n",
      " ---> 425d968c770f\n",
      "Step 4/14 : RUN apt-get install -y git python-pip\n",
      " ---> Using cache\n",
      " ---> 50f9284e138d\n",
      "Step 5/14 : RUN git clone -b aido1_lf1_r3-v3 https://github.com/duckietown/gym-duckietown src/gym-duckietown\n",
      " ---> Using cache\n",
      " ---> e9562fae869c\n",
      "Step 6/14 : RUN pip install -e src/gym-duckietown/\n",
      " ---> Using cache\n",
      " ---> 489894b58bd5\n",
      "Step 7/14 : RUN pip install opencv-python\n",
      " ---> Using cache\n",
      " ---> 1e1dd599eee8\n",
      "Step 8/14 : ENV PATH=\"/opt/ml/code:${PATH}\"\n",
      " ---> Using cache\n",
      " ---> dbca79060914\n",
      "Step 9/14 : COPY /duckietown-il /opt/ml/code/\n",
      " ---> Using cache\n",
      " ---> c241387eb877\n",
      "Step 10/14 : ENV PYTHONPATH=\"/opt/ml/code/duckietown-il:/opt/ml/code/:${PYTHONPATH}\"\n",
      " ---> Using cache\n",
      " ---> a5132b07b367\n",
      "Step 11/14 : ADD entrypoint.sh /entrypoint.sh\n",
      " ---> Using cache\n",
      " ---> d866013dcd21\n",
      "Step 12/14 : RUN [\"chmod\", \"+x\", \"/entrypoint.sh\"]\n",
      " ---> Using cache\n",
      " ---> 9328bb3446bd\n",
      "Step 13/14 : ENTRYPOINT [\"/entrypoint.sh\"]\n",
      " ---> Using cache\n",
      " ---> ca2975080c7d\n",
      "Step 14/14 : WORKDIR \"/opt/ml/code\"\n",
      " ---> Using cache\n",
      " ---> 80fba9d0dca7\n",
      "Successfully built 80fba9d0dca7\n",
      "Successfully tagged duckietown-imitation:latest\n",
      "The push refers to repository [945394400746.dkr.ecr.us-east-1.amazonaws.com/duckietown-imitation]\n",
      "bf03e4bd728e: Preparing\n",
      "88a6a25bebd4: Preparing\n",
      "85e0f948a047: Preparing\n",
      "d7fbb370eab3: Preparing\n",
      "61cb04f4b236: Preparing\n",
      "bd51eb09ff52: Preparing\n",
      "003b4efcd75e: Preparing\n",
      "77fc4729f20a: Preparing\n",
      "52133998b0f5: Preparing\n",
      "e0c4197104f9: Preparing\n",
      "1fb2bc13bdda: Preparing\n",
      "9136ffbbf4aa: Preparing\n",
      "b3a9262c451e: Preparing\n",
      "ce70cf3f2428: Preparing\n",
      "2faed3426aa2: Preparing\n",
      "fee4cef4c353: Preparing\n",
      "dc657e1d2f27: Preparing\n",
      "588d3e4e8828: Preparing\n",
      "bf3d982208f5: Preparing\n",
      "cd7b4cc1c2dd: Preparing\n",
      "3a0404adc8bd: Preparing\n",
      "82718dbf791d: Preparing\n",
      "c8aa3ff3c3d3: Preparing\n",
      "bd51eb09ff52: Waiting\n",
      "003b4efcd75e: Waiting\n",
      "77fc4729f20a: Waiting\n",
      "52133998b0f5: Waiting\n",
      "fee4cef4c353: Waiting\n",
      "dc657e1d2f27: Waiting\n",
      "e0c4197104f9: Waiting\n",
      "588d3e4e8828: Waiting\n",
      "1fb2bc13bdda: Waiting\n",
      "bf3d982208f5: Waiting\n",
      "9136ffbbf4aa: Waiting\n",
      "cd7b4cc1c2dd: Waiting\n",
      "b3a9262c451e: Waiting\n",
      "3a0404adc8bd: Waiting\n",
      "ce70cf3f2428: Waiting\n",
      "82718dbf791d: Waiting\n",
      "2faed3426aa2: Waiting\n",
      "c8aa3ff3c3d3: Waiting\n",
      "d7fbb370eab3: Layer already exists\n",
      "61cb04f4b236: Layer already exists\n",
      "88a6a25bebd4: Layer already exists\n",
      "bf03e4bd728e: Layer already exists\n",
      "85e0f948a047: Layer already exists\n",
      "77fc4729f20a: Layer already exists\n",
      "003b4efcd75e: Layer already exists\n",
      "bd51eb09ff52: Layer already exists\n",
      "52133998b0f5: Layer already exists\n",
      "e0c4197104f9: Layer already exists\n",
      "1fb2bc13bdda: Layer already exists\n",
      "9136ffbbf4aa: Layer already exists\n",
      "ce70cf3f2428: Layer already exists\n",
      "b3a9262c451e: Layer already exists\n",
      "2faed3426aa2: Layer already exists\n",
      "dc657e1d2f27: Layer already exists\n",
      "fee4cef4c353: Layer already exists\n",
      "588d3e4e8828: Layer already exists\n",
      "bf3d982208f5: Layer already exists\n",
      "cd7b4cc1c2dd: Layer already exists\n",
      "3a0404adc8bd: Layer already exists\n",
      "82718dbf791d: Layer already exists\n",
      "c8aa3ff3c3d3: Layer already exists\n",
      "latest: digest: sha256:5c3812fa2cc794e932d2c3624d160ff52e61c015185a570e4ed3c0adc5c11f3c size: 5138\n"
     ]
    },
    {
     "name": "stderr",
     "output_type": "stream",
     "text": [
      "WARNING! Using --password via the CLI is insecure. Use --password-stdin.\n",
      "WARNING! Your password will be stored unencrypted in /home/ec2-user/.docker/config.json.\n",
      "Configure a credential helper to remove this warning. See\n",
      "https://docs.docker.com/engine/reference/commandline/login/#credentials-store\n",
      "\n"
     ]
    }
   ],
   "source": [
    "%%sh\n",
    "\n",
    "# The name of our algorithm\n",
    "algorithm_name=duckietown-imitation\n",
    "\n",
    "cd container\n",
    "\n",
    "chmod +x duckietown-il/train\n",
    "\n",
    "account=$(aws sts get-caller-identity --query Account --output text)\n",
    "\n",
    "# Get the region defined in the current configuration (default to us-west-2 if none defined)\n",
    "region=$(aws configure get region)\n",
    "region=${region:-us-west-2}\n",
    "\n",
    "fullname=\"${account}.dkr.ecr.${region}.amazonaws.com/${algorithm_name}:latest\"\n",
    "\n",
    "# If the repository doesn't exist in ECR, create it.\n",
    "\n",
    "aws ecr describe-repositories --repository-names \"${algorithm_name}\" > /dev/null 2>&1\n",
    "\n",
    "if [ $? -ne 0 ]\n",
    "then\n",
    "    aws ecr create-repository --repository-name \"${algorithm_name}\" > /dev/null\n",
    "fi\n",
    "\n",
    "# Get the login command from ECR and execute it directly\n",
    "$(aws ecr get-login --region ${region} --no-include-email)\n",
    "\n",
    "# Build the docker image locally with the image name and then push it to ECR\n",
    "# with the full name.\n",
    "\n",
    "docker build  -t ${algorithm_name} .\n",
    "docker tag ${algorithm_name} ${fullname}\n",
    "\n",
    "docker push ${fullname}"
   ]
  },
  {
   "cell_type": "markdown",
   "metadata": {},
   "source": [
    "## SageMaker Training\n",
    "To represent our training, we use the Estimator class, which needs to be configured in five steps. \n",
    "1. IAM role - our AWS execution role\n",
    "2. train_instance_count - number of instances to use for training.\n",
    "3. train_instance_type - type of instance to use for training. For training locally, we specify `local` or `local_gpu`.\n",
    "4. image_name - our custom PyTorch Docker image we created.\n",
    "5. hyperparameters - hyperparameters we want to pass.\n",
    "\n",
    "Our model will run `duckietown-il/train` which is still a Python script, just without the extension."
   ]
  },
  {
   "cell_type": "code",
   "execution_count": 3,
   "metadata": {},
   "outputs": [
    {
     "name": "stdout",
     "output_type": "stream",
     "text": [
      "Instance type = local\n"
     ]
    }
   ],
   "source": [
    "import os\n",
    "import subprocess\n",
    "\n",
    "from sagemaker import get_execution_role\n",
    "\n",
    "role = get_execution_role()\n",
    "\n",
    "instance_type = 'local'\n",
    "\n",
    "if subprocess.call('nvidia-smi') == 0:\n",
    "    ## Set type to GPU if one is present\n",
    "    instance_type = 'local_gpu'\n",
    "    \n",
    "# When you're ready to really train: - Check the diff. instance types!\n",
    "# for example...\n",
    "# instance_type = 'ml.m4.xlarge'\n",
    "\n",
    "print(\"Instance type = \" + instance_type)"
   ]
  },
  {
   "cell_type": "code",
   "execution_count": null,
   "metadata": {
    "scrolled": true
   },
   "outputs": [
    {
     "name": "stderr",
     "output_type": "stream",
     "text": [
      "INFO:sagemaker:Created S3 bucket: sagemaker-us-east-1-945394400746\n",
      "INFO:sagemaker:Creating training-job with name: duckietown-imitation-2018-11-17-05-17-28-144\n"
     ]
    },
    {
     "name": "stdout",
     "output_type": "stream",
     "text": [
      "[{'DataUri': 'file:///tmp', 'ChannelName': 'training', 'DataSource': {'FileDataSource': {'FileDataDistributionType': 'FullyReplicated', 'FileUri': 'file:///tmp'}}}]\n",
      "Creating tmp6apx_k_algo-1-V0EYO_1_9887a7e1d5d6 ... \n",
      "\u001b[1BAttaching to tmp6apx_k_algo-1-V0EYO_1_ccaa16d7374a2mdone\u001b[0m\n",
      "\u001b[36malgo-1-V0EYO_1_ccaa16d7374a |\u001b[0m Starting Xvfb\n",
      "\u001b[36malgo-1-V0EYO_1_ccaa16d7374a |\u001b[0m Executing command train\n",
      "\u001b[36malgo-1-V0EYO_1_ccaa16d7374a |\u001b[0m /usr/local/lib/python3.5/dist-packages/h5py/__init__.py:36: FutureWarning: Conversion of the second argument of issubdtype from `float` to `np.floating` is deprecated. In future, it will be treated as `np.float64 == np.dtype(float).type`.\n",
      "\u001b[36malgo-1-V0EYO_1_ccaa16d7374a |\u001b[0m   from ._conv import register_converters as _register_converters\n",
      "\u001b[36malgo-1-V0EYO_1_ccaa16d7374a |\u001b[0m INFO:gym-duckietown:gym-duckietown 2018.10.1\n",
      "\u001b[36malgo-1-V0EYO_1_ccaa16d7374a |\u001b[0m \n",
      "\u001b[36malgo-1-V0EYO_1_ccaa16d7374a |\u001b[0m INFO:gym-duckietown:Registering gym environment id: Duckietown-loop_pedestrians-v0\n",
      "\u001b[36malgo-1-V0EYO_1_ccaa16d7374a |\u001b[0m INFO:gym-duckietown:Registering gym environment id: Duckietown-zigzag_dists-v0\n",
      "\u001b[36malgo-1-V0EYO_1_ccaa16d7374a |\u001b[0m INFO:gym-duckietown:Registering gym environment id: Duckietown-straight_road-v0\n",
      "\u001b[36malgo-1-V0EYO_1_ccaa16d7374a |\u001b[0m INFO:gym-duckietown:Registering gym environment id: Duckietown-small_loop_cw-v0\n",
      "\u001b[36malgo-1-V0EYO_1_ccaa16d7374a |\u001b[0m INFO:gym-duckietown:Registering gym environment id: Duckietown-loop_empty-v0\n",
      "\u001b[36malgo-1-V0EYO_1_ccaa16d7374a |\u001b[0m INFO:gym-duckietown:Registering gym environment id: Duckietown-loop_obstacles-v0\n",
      "\u001b[36malgo-1-V0EYO_1_ccaa16d7374a |\u001b[0m INFO:gym-duckietown:Registering gym environment id: Duckietown-loop_dyn_duckiebots-v0\n",
      "\u001b[36malgo-1-V0EYO_1_ccaa16d7374a |\u001b[0m INFO:gym-duckietown:Registering gym environment id: Duckietown-udem1-v0\n",
      "\u001b[36malgo-1-V0EYO_1_ccaa16d7374a |\u001b[0m INFO:gym-duckietown:Registering gym environment id: Duckietown-small_loop-v0\n",
      "\u001b[36malgo-1-V0EYO_1_ccaa16d7374a |\u001b[0m INFO:gym-duckietown:Registering gym environment id: Duckietown-4way-v0\n",
      "\u001b[36malgo-1-V0EYO_1_ccaa16d7374a |\u001b[0m Running Expert for 3 Episodes of 50 Steps\n",
      "\u001b[36malgo-1-V0EYO_1_ccaa16d7374a |\u001b[0m Training Learning for 1 Epochs with Batch Size of 32\n",
      "\u001b[36malgo-1-V0EYO_1_ccaa16d7374a |\u001b[0m DEBUG:gym-duckietown:Falling back to non-multisampled frame buffer\n",
      "\u001b[36malgo-1-V0EYO_1_ccaa16d7374a |\u001b[0m DEBUG:gym-duckietown:Falling back to non-multisampled frame buffer\n",
      "\u001b[36malgo-1-V0EYO_1_ccaa16d7374a |\u001b[0m DEBUG:gym-duckietown:loading map file \"/notebooks/src/gym-duckietown/gym_duckietown/maps/loop_empty.yaml\"\n",
      "\u001b[36malgo-1-V0EYO_1_ccaa16d7374a |\u001b[0m DEBUG:gym-duckietown:loading mesh \"/notebooks/src/gym-duckietown/gym_duckietown/meshes/duckiebot.obj\"\n",
      "\u001b[36malgo-1-V0EYO_1_ccaa16d7374a |\u001b[0m DEBUG:gym-duckietown:loading materials from \"/notebooks/src/gym-duckietown/gym_duckietown/meshes/duckiebot.mtl\"\n",
      "\u001b[36malgo-1-V0EYO_1_ccaa16d7374a |\u001b[0m DEBUG:gym-duckietown:loading mesh \"/notebooks/src/gym-duckietown/gym_duckietown/meshes/duckie.obj\"\n",
      "\u001b[36malgo-1-V0EYO_1_ccaa16d7374a |\u001b[0m DEBUG:gym-duckietown:loading texture \"/notebooks/src/gym-duckietown/gym_duckietown/textures/duckie.png\"\n"
     ]
    }
   ],
   "source": [
    "from sagemaker.estimator import Estimator\n",
    "\n",
    "estimator = Estimator(role=role,\n",
    "                      train_instance_count=1,\n",
    "                      train_instance_type=instance_type,\n",
    "                      image_name='duckietown-imitation:latest',\n",
    "                      )\n",
    "\n",
    "estimator.fit('file:///tmp', wait=False)\n",
    "print(\"All done!\")"
   ]
  },
  {
   "cell_type": "markdown",
   "metadata": {},
   "source": [
    "## Submitting Your Model\n",
    "\n",
    "Now you're training succeeded, but unlike the Pytorch or Tensorflow tutorials, you don't see any output or models directory. This is one of the nice things about Sagemaker - they throw everything into S3 for you, so you don't have to worry about losing track of your models. It will be in your S3 bucket, which you can access by [this link](https://console.aws.amazon.com/s3/home). Click on your Sagemaker bucket, and download the `model.tar.gz` (this is what it is saved as by default, but if you'd like you can change it).\n",
    "\n",
    "Now, you can follow the steps from the other tutorial. Clone this repository locally, navigate to the `duckietown-il/submission` directory, put your model in the right place, edit the `solution.py` as needed, and write `dts challenges submit`! It's that easy!"
   ]
  },
  {
   "cell_type": "code",
   "execution_count": null,
   "metadata": {},
   "outputs": [],
   "source": []
  }
 ],
 "metadata": {
  "kernelspec": {
   "display_name": "conda_pytorch_p27",
   "language": "python",
   "name": "conda_pytorch_p27"
  },
  "language_info": {
   "codemirror_mode": {
    "name": "ipython",
    "version": 2
   },
   "file_extension": ".py",
   "mimetype": "text/x-python",
   "name": "python",
   "nbconvert_exporter": "python",
   "pygments_lexer": "ipython2",
   "version": "2.7.15"
  }
 },
 "nbformat": 4,
 "nbformat_minor": 2
}
